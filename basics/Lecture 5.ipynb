{
 "cells": [
  {
   "cell_type": "code",
   "execution_count": 1,
   "id": "22df94d0",
   "metadata": {},
   "outputs": [
    {
     "name": "stdout",
     "output_type": "stream",
     "text": [
      "By which number to square: 6\n",
      "[1, 4, 9, 16, 25, 36]\n"
     ]
    }
   ],
   "source": [
    "#1. За допомогою def() та return написати чисту функцію, яка створить список з N послідовних натуральних чисел, і поверне список з квадратів цих натуральних чисел. \n",
    "def squared(N):\n",
    "    list1 = []\n",
    "    for i in range(1,N+1):\n",
    "        list1.append(i)\n",
    "    return list([i**2 for i in list1])\n",
    "\n",
    "N = int(input('By which number to square: '))\n",
    "print(squared(N))"
   ]
  },
  {
   "cell_type": "code",
   "execution_count": 2,
   "id": "ef5d01f2",
   "metadata": {},
   "outputs": [
    {
     "name": "stdout",
     "output_type": "stream",
     "text": [
      "By which number to square: 6\n",
      "[1, 4, 9, 16, 25, 36]\n"
     ]
    }
   ],
   "source": [
    "#2. Зробити попередній пункт за допомогою оператора map. \n",
    "def squared(N):\n",
    "    return list(map(lambda i: i**2, range(1, N+1)))\n",
    "\n",
    "N = int(input('By which number to square: '))\n",
    "print(squared(N))"
   ]
  },
  {
   "cell_type": "code",
   "execution_count": 2,
   "id": "8da204b8",
   "metadata": {},
   "outputs": [
    {
     "name": "stdout",
     "output_type": "stream",
     "text": [
      "By which number to square: 4\n",
      "[1, 4, 9, 16]\n"
     ]
    }
   ],
   "source": [
    "#2. Зробити попередній пункт за допомогою оператора map. варіант 2\n",
    "def squared(N):\n",
    "    return N**2\n",
    "\n",
    "N = int(input('By which number to square: '))\n",
    "print(list(map(squared, range(1, N+1))))"
   ]
  },
  {
   "cell_type": "code",
   "execution_count": 23,
   "id": "9f8e6c0f",
   "metadata": {},
   "outputs": [
    {
     "name": "stdout",
     "output_type": "stream",
     "text": [
      "By which number to square: 5\n",
      "[1, 4, 9, 16, 25]\n"
     ]
    }
   ],
   "source": [
    "#3. Зробити попередній пункт за допомогою розуміння списків\n",
    "def squared(N):\n",
    "    return list(i**2 for i in range(1, N+1))\n",
    "\n",
    "N = int(input('By which number to square: '))\n",
    "print(squared(N))"
   ]
  },
  {
   "cell_type": "code",
   "execution_count": 13,
   "id": "68b4a6ab",
   "metadata": {},
   "outputs": [
    {
     "name": "stdout",
     "output_type": "stream",
     "text": [
      "By which number to check squares: 5\n",
      "[1, 2, 3, 4, 5]\n"
     ]
    },
    {
     "ename": "NameError",
     "evalue": "name 'list2' is not defined",
     "output_type": "error",
     "traceback": [
      "\u001b[1;31m---------------------------------------------------------------------------\u001b[0m",
      "\u001b[1;31mNameError\u001b[0m                                 Traceback (most recent call last)",
      "Cell \u001b[1;32mIn[13], line 14\u001b[0m\n\u001b[0;32m     11\u001b[0m             \u001b[38;5;28;01mpass\u001b[39;00m\n\u001b[0;32m     13\u001b[0m N \u001b[38;5;241m=\u001b[39m \u001b[38;5;28mint\u001b[39m(\u001b[38;5;28minput\u001b[39m(\u001b[38;5;124m'\u001b[39m\u001b[38;5;124mBy which number to check squares: \u001b[39m\u001b[38;5;124m'\u001b[39m))\n\u001b[1;32m---> 14\u001b[0m squared(\u001b[38;5;241m5\u001b[39m)\n",
      "Cell \u001b[1;32mIn[13], line 9\u001b[0m, in \u001b[0;36msquared\u001b[1;34m(N)\u001b[0m\n\u001b[0;32m      7\u001b[0m x \u001b[38;5;241m=\u001b[39m math\u001b[38;5;241m.\u001b[39msqrt(i)\n\u001b[0;32m      8\u001b[0m \u001b[38;5;28;01mif\u001b[39;00m x\u001b[38;5;241m.\u001b[39mis_integer():\n\u001b[1;32m----> 9\u001b[0m     \u001b[38;5;28;01mreturn\u001b[39;00m list2\u001b[38;5;241m.\u001b[39mappend(i)\n\u001b[0;32m     10\u001b[0m \u001b[38;5;28;01melse\u001b[39;00m:\n\u001b[0;32m     11\u001b[0m     \u001b[38;5;28;01mpass\u001b[39;00m\n",
      "\u001b[1;31mNameError\u001b[0m: name 'list2' is not defined"
     ]
    }
   ],
   "source": [
    "#4. За допомогою def() та return написати чисту функцію, яка створить список з N послідовних натуральних чисел і поверне список чисел, які є квадратами якогось натурального числа.\n",
    "import math\n",
    "def squared(N):\n",
    "    list1 = list(range(1, N+1))\n",
    "    list2 = [i for i in list1 if x = math.sqrt(i)\n",
    "        if x.is_integer():\n",
    "            return list2.append(i)\n",
    "        else:\n",
    "            pass\n",
    "\n",
    "N = int(input('By which number to check squares: '))\n",
    "print(squared(N))\n"
   ]
  },
  {
   "cell_type": "code",
   "execution_count": null,
   "id": "3a9bb9a8",
   "metadata": {},
   "outputs": [],
   "source": [
    "#5. Написати лямбда функцію, яка перевірятиме належність числа N до відрізку [a, b]\n",
    "N = int(input('Which number would you like to check if it belongs to a range? '))\n",
    "a = int(input('What is the starting point of the range? '))\n",
    "b = int(input('What is the last point of the range? '))\n",
    "check = lambda i: True if (i in range (a,b)) else False\n",
    "print(check(N))"
   ]
  },
  {
   "cell_type": "code",
   "execution_count": null,
   "id": "8906ab0a",
   "metadata": {},
   "outputs": [],
   "source": []
  }
 ],
 "metadata": {
  "kernelspec": {
   "display_name": "Python 3 (ipykernel)",
   "language": "python",
   "name": "python3"
  },
  "language_info": {
   "codemirror_mode": {
    "name": "ipython",
    "version": 3
   },
   "file_extension": ".py",
   "mimetype": "text/x-python",
   "name": "python",
   "nbconvert_exporter": "python",
   "pygments_lexer": "ipython3",
   "version": "3.11.4"
  }
 },
 "nbformat": 4,
 "nbformat_minor": 5
}
