{
 "cells": [
  {
   "cell_type": "code",
   "execution_count": 153,
   "id": "38906eb3",
   "metadata": {},
   "outputs": [],
   "source": [
    "class Vehicle():\n",
    "    \n",
    "    def __init__(self, car_type, speed, mileage):\n",
    "        self.car_type = str(car_type)\n",
    "        self.speed = float(speed)\n",
    "        self.mileage = int(mileage)\n",
    "        \n",
    "    def __str__(self):\n",
    "        return f'Type:{self.car_type}, Speed:{self.speed} km/h, Mileage:{self.mileage}'\n",
    "    \n",
    "    #renting price based on passenger capacity\n",
    "    def rent(self, passenger_capacity):\n",
    "        self.passenger_capacity = passenger_capacity\n",
    "        price = passenger_capacity**2\n",
    "        return price\n",
    "    \n",
    "    #add driven mileage \n",
    "    def drive(self, added_mileage):\n",
    "        self.added_mileage = int(added_mileage)\n",
    "        self.mileage = self.mileage + added_mileage\n",
    "        return self.mileage \n",
    "    \n",
    "    #show service alert for every 10k of mileage\n",
    "    def service_alert(self):\n",
    "        alert = self.mileage//10000\n",
    "        if self.mileage < 10000:\n",
    "            print('No Service Required')\n",
    "        else: \n",
    "            print('Service Required! ' * alert) \n",
    "        \n",
    "        \n",
    "#bus subclass with default passenger capacity 50        \n",
    "class Bus(Vehicle):\n",
    "\n",
    "    def __init__(self, car_type, speed, mileage, passenger_capacity = 50):\n",
    "        super().__init__(car_type, speed, mileage)\n",
    "        self.passenger_capacity = passenger_capacity\n",
    "        \n",
    "    def __str__(self):\n",
    "        return f'Type:{self.car_type}, Speed:{self.speed} km/h, Mileage:{self.mileage}, Passenger Capacity:{self.passenger_capacity}'\n",
    "    \n",
    "    def rent_bus(self):\n",
    "        if self.passenger_capacity > 10: \n",
    "            base_price = self.passenger_capacity**2\n",
    "            price = base_price + base_price/10\n",
    "            return price\n",
    "    \n",
    "#automobile subclass with default color 'white' \n",
    "class Auto(Vehicle):\n",
    "\n",
    "    def __init__(self, car_type, speed, mileage, color = 'white'):\n",
    "        super().__init__(car_type, speed, mileage)\n",
    "        self.color = color\n",
    "        \n",
    "    def __str__(self):\n",
    "        return f'Type:{self.car_type}, Speed:{self.speed} km/h, Mileage:{self.mileage}, Color:{self.color}'\n",
    "    "
   ]
  },
  {
   "cell_type": "code",
   "execution_count": null,
   "id": "39fc2f5d",
   "metadata": {},
   "outputs": [],
   "source": []
  },
  {
   "cell_type": "code",
   "execution_count": null,
   "id": "5f4a7036",
   "metadata": {},
   "outputs": [],
   "source": []
  }
 ],
 "metadata": {
  "kernelspec": {
   "display_name": "Python 3 (ipykernel)",
   "language": "python",
   "name": "python3"
  },
  "language_info": {
   "codemirror_mode": {
    "name": "ipython",
    "version": 3
   },
   "file_extension": ".py",
   "mimetype": "text/x-python",
   "name": "python",
   "nbconvert_exporter": "python",
   "pygments_lexer": "ipython3",
   "version": "3.11.4"
  }
 },
 "nbformat": 4,
 "nbformat_minor": 5
}
